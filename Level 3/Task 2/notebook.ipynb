{
 "cells": [
  {
   "cell_type": "code",
   "execution_count": 1,
   "metadata": {},
   "outputs": [],
   "source": [
    "import pandas as pd "
   ]
  },
  {
   "cell_type": "code",
   "execution_count": 2,
   "metadata": {},
   "outputs": [],
   "source": [
    "filepath = '/Users/kaivalyasatav/Documents/Cognifyz/Dataset .csv'"
   ]
  },
  {
   "cell_type": "code",
   "execution_count": 3,
   "metadata": {},
   "outputs": [],
   "source": [
    "data = pd.read_csv(filepath)"
   ]
  },
  {
   "cell_type": "code",
   "execution_count": 5,
   "metadata": {},
   "outputs": [],
   "source": [
    "data['Cuisines'] = data['Cuisines'].str.split(', ')\n",
    "cuisines_exploded = data.explode('Cuisines')"
   ]
  },
  {
   "cell_type": "code",
   "execution_count": 6,
   "metadata": {},
   "outputs": [],
   "source": [
    "avg_rating_by_cuisine = cuisines_exploded.groupby('Cuisines')['Aggregate rating'].mean().reset_index()\n",
    "avg_rating_by_cuisine.columns = ['Cuisine', 'Average Rating']"
   ]
  },
  {
   "cell_type": "code",
   "execution_count": 7,
   "metadata": {},
   "outputs": [
    {
     "name": "stdout",
     "output_type": "stream",
     "text": [
      "Average Rating by Cuisine Type:\n",
      "Empty DataFrame\n",
      "Columns: [Cuisine, Average Rating]\n",
      "Index: []\n"
     ]
    }
   ],
   "source": [
    "print(\"Average Rating by Cuisine Type:\")\n",
    "print(avg_rating_by_cuisine)"
   ]
  },
  {
   "cell_type": "code",
   "execution_count": 8,
   "metadata": {},
   "outputs": [],
   "source": [
    "popular_cuisines = cuisines_exploded.groupby('Cuisines')['Votes'].sum().reset_index()\n",
    "popular_cuisines.columns = ['Cuisine', 'Total Votes']\n",
    "popular_cuisines = popular_cuisines.sort_values(by='Total Votes', ascending=False)"
   ]
  },
  {
   "cell_type": "code",
   "execution_count": 9,
   "metadata": {},
   "outputs": [
    {
     "name": "stdout",
     "output_type": "stream",
     "text": [
      "\n",
      "Most Popular Cuisines Based on Votes:\n",
      "Empty DataFrame\n",
      "Columns: [Cuisine, Total Votes]\n",
      "Index: []\n"
     ]
    }
   ],
   "source": [
    "print(\"\\nMost Popular Cuisines Based on Votes:\")\n",
    "print(popular_cuisines)"
   ]
  },
  {
   "cell_type": "code",
   "execution_count": 15,
   "metadata": {},
   "outputs": [],
   "source": [
    "avg_rating_by_cuisine = avg_rating_by_cuisine.dropna(subset=['Average Rating'])"
   ]
  },
  {
   "cell_type": "code",
   "execution_count": 18,
   "metadata": {},
   "outputs": [
    {
     "name": "stdout",
     "output_type": "stream",
     "text": [
      "No valid data available to determine the highest average rating.\n"
     ]
    }
   ],
   "source": [
    "if not avg_rating_by_cuisine.empty:\n",
    "    highest_avg_rating_cuisine = avg_rating_by_cuisine.loc[avg_rating_by_cuisine['Average Rating'].idxmax()]\n",
    "    print(f\"\\nCuisine with Highest Average Rating: {highest_avg_rating_cuisine['Cuisine']} with an average rating of {highest_avg_rating_cuisine['Average Rating']:.2f}\")\n",
    "else:\n",
    "    print(\"No valid data available to determine the highest average rating.\")"
   ]
  }
 ],
 "metadata": {
  "kernelspec": {
   "display_name": "base",
   "language": "python",
   "name": "python3"
  },
  "language_info": {
   "codemirror_mode": {
    "name": "ipython",
    "version": 3
   },
   "file_extension": ".py",
   "mimetype": "text/x-python",
   "name": "python",
   "nbconvert_exporter": "python",
   "pygments_lexer": "ipython3",
   "version": "3.11.5"
  }
 },
 "nbformat": 4,
 "nbformat_minor": 2
}
