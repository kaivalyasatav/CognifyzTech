{
 "cells": [
  {
   "cell_type": "code",
   "execution_count": 1,
   "metadata": {},
   "outputs": [],
   "source": [
    "import pandas as pd "
   ]
  },
  {
   "cell_type": "code",
   "execution_count": 2,
   "metadata": {},
   "outputs": [],
   "source": [
    "file_path = '/Users/kaivalyasatav/Documents/Cognifyz/Dataset .csv'"
   ]
  },
  {
   "cell_type": "code",
   "execution_count": 3,
   "metadata": {},
   "outputs": [],
   "source": [
    "data = pd.read_csv(file_path)"
   ]
  },
  {
   "cell_type": "code",
   "execution_count": 4,
   "metadata": {},
   "outputs": [],
   "source": [
    "total_restaurants = len(data)\n",
    "table_booking_count = data['Has Table booking'].value_counts().get('Yes', 0)\n",
    "online_delivery_count = data['Has Online delivery'].value_counts().get('Yes', 0)"
   ]
  },
  {
   "cell_type": "code",
   "execution_count": 6,
   "metadata": {},
   "outputs": [],
   "source": [
    "percentage_table_booking = (table_booking_count / total_restaurants) * 100\n",
    "percentage_online_delivery = (online_delivery_count / total_restaurants) * 100"
   ]
  },
  {
   "cell_type": "code",
   "execution_count": 8,
   "metadata": {},
   "outputs": [
    {
     "name": "stdout",
     "output_type": "stream",
     "text": [
      "Percentage of restaurants offering table booking: 12.12%\n",
      "Percentage of restaurants offering online delivery: 25.66%\n"
     ]
    }
   ],
   "source": [
    "print(f\"Percentage of restaurants offering table booking: {percentage_table_booking:.2f}%\")\n",
    "print(f\"Percentage of restaurants offering online delivery: {percentage_online_delivery:.2f}%\")"
   ]
  },
  {
   "cell_type": "code",
   "execution_count": 9,
   "metadata": {},
   "outputs": [],
   "source": [
    "avg_rating_with_booking = data[data['Has Table booking'] == 'Yes']['Aggregate rating'].mean()\n",
    "avg_rating_without_booking = data[data['Has Table booking'] == 'No']['Aggregate rating'].mean()"
   ]
  },
  {
   "cell_type": "code",
   "execution_count": 10,
   "metadata": {},
   "outputs": [
    {
     "name": "stdout",
     "output_type": "stream",
     "text": [
      "Average rating of restaurants with table booking: 3.44\n",
      "Average rating of restaurants without table booking: 2.56\n"
     ]
    }
   ],
   "source": [
    "print(f\"Average rating of restaurants with table booking: {avg_rating_with_booking:.2f}\")\n",
    "print(f\"Average rating of restaurants without table booking: {avg_rating_without_booking:.2f}\")"
   ]
  },
  {
   "cell_type": "code",
   "execution_count": 11,
   "metadata": {},
   "outputs": [],
   "source": [
    "price_ranges = data['Price range'].unique()\n",
    "delivery_analysis = {}"
   ]
  },
  {
   "cell_type": "code",
   "execution_count": 12,
   "metadata": {},
   "outputs": [],
   "source": [
    "for price in price_ranges:\n",
    "    count_with_delivery = data[(data['Price range'] == price) & (data['Has Online delivery'] == 'Yes')].shape[0]\n",
    "    count_total = data[data['Price range'] == price].shape[0]"
   ]
  },
  {
   "cell_type": "code",
   "execution_count": 16,
   "metadata": {},
   "outputs": [],
   "source": [
    "delivery_percentage = (count_with_delivery / count_total) * 100 if count_total > 0 else 0\n",
    "delivery_analysis[price] = delivery_percentage"
   ]
  },
  {
   "cell_type": "code",
   "execution_count": 17,
   "metadata": {},
   "outputs": [
    {
     "name": "stdout",
     "output_type": "stream",
     "text": [
      "\n",
      "Availability of Online Delivery by Price Range:\n",
      "Price Range 1: 15.77%\n"
     ]
    }
   ],
   "source": [
    "print(\"\\nAvailability of Online Delivery by Price Range:\")\n",
    "for price, percentage in delivery_analysis.items():\n",
    "    print(f\"Price Range {price}: {percentage:.2f}%\")"
   ]
  }
 ],
 "metadata": {
  "kernelspec": {
   "display_name": "base",
   "language": "python",
   "name": "python3"
  },
  "language_info": {
   "codemirror_mode": {
    "name": "ipython",
    "version": 3
   },
   "file_extension": ".py",
   "mimetype": "text/x-python",
   "name": "python",
   "nbconvert_exporter": "python",
   "pygments_lexer": "ipython3",
   "version": "3.11.5"
  }
 },
 "nbformat": 4,
 "nbformat_minor": 2
}
