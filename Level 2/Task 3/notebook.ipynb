{
 "cells": [
  {
   "cell_type": "code",
   "execution_count": 1,
   "metadata": {},
   "outputs": [],
   "source": [
    "import pandas as pd "
   ]
  },
  {
   "cell_type": "code",
   "execution_count": 2,
   "metadata": {},
   "outputs": [],
   "source": [
    "filepath = '/Users/kaivalyasatav/Documents/Cognifyz/Dataset .csv'"
   ]
  },
  {
   "cell_type": "code",
   "execution_count": 3,
   "metadata": {},
   "outputs": [],
   "source": [
    "data = pd.read_csv(filepath)"
   ]
  },
  {
   "cell_type": "code",
   "execution_count": 4,
   "metadata": {},
   "outputs": [],
   "source": [
    "data['Restaurant Name Length'] = data['Restaurant Name'].apply(len)"
   ]
  },
  {
   "cell_type": "code",
   "execution_count": 5,
   "metadata": {},
   "outputs": [],
   "source": [
    "data['Address length'] = data['Address'].apply(len)"
   ]
  },
  {
   "cell_type": "code",
   "execution_count": 6,
   "metadata": {},
   "outputs": [],
   "source": [
    "data['Has Table Booking'] = data['Has Table booking'].map({'Yes': 1, 'No': 0})\n",
    "data['Has Online Delivery'] = data['Has Online delivery'].map({'Yes': 1, 'No': 0})"
   ]
  },
  {
   "cell_type": "code",
   "execution_count": 9,
   "metadata": {},
   "outputs": [
    {
     "name": "stdout",
     "output_type": "stream",
     "text": [
      "          Restaurant Name  Restaurant Name Length  Address length  \\\n",
      "0        Le Petit Souffle                      16              71   \n",
      "1        Izakaya Kikufuji                      16              67   \n",
      "2  Heat - Edsa Shangri-La                      22              56   \n",
      "3                    Ooma                       4              70   \n",
      "4             Sambo Kojin                      11              64   \n",
      "\n",
      "   Has Table Booking  Has Online Delivery  \n",
      "0                  1                    0  \n",
      "1                  1                    0  \n",
      "2                  1                    0  \n",
      "3                  0                    0  \n",
      "4                  1                    0  \n"
     ]
    }
   ],
   "source": [
    "print(data[['Restaurant Name', 'Restaurant Name Length', 'Address length', 'Has Table Booking', 'Has Online Delivery']].head())"
   ]
  }
 ],
 "metadata": {
  "kernelspec": {
   "display_name": "base",
   "language": "python",
   "name": "python3"
  },
  "language_info": {
   "codemirror_mode": {
    "name": "ipython",
    "version": 3
   },
   "file_extension": ".py",
   "mimetype": "text/x-python",
   "name": "python",
   "nbconvert_exporter": "python",
   "pygments_lexer": "ipython3",
   "version": "3.11.5"
  }
 },
 "nbformat": 4,
 "nbformat_minor": 2
}
